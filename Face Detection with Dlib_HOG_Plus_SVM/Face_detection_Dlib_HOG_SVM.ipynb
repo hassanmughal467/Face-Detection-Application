{
 "cells": [
  {
   "cell_type": "code",
   "execution_count": 1,
   "metadata": {},
   "outputs": [],
   "source": [
    "from Module.helpers import convert_and_trim_bb\n",
    "import imutils\n",
    "import time\n",
    "import dlib\n",
    "import cv2\n"
   ]
  },
  {
   "cell_type": "code",
   "execution_count": 2,
   "metadata": {},
   "outputs": [
    {
     "name": "stdout",
     "output_type": "stream",
     "text": [
      "[INFO] loading HOG + Linear SVM face detector...\n",
      "[INFO[ performing face detection with dlib...\n",
      "[INFO] face detection took 0.2083 seconds\n"
     ]
    }
   ],
   "source": [
    "# load dlib's HOG + Linear SVM face detector\n",
    "print(\"[INFO] loading HOG + Linear SVM face detector...\")\n",
    "detector = dlib.get_frontal_face_detector()\n",
    "\n",
    "# load the input image from disk, resize it, and convert it from\n",
    "# BGR to RGB channel ordering (which is what dlib expects)\n",
    "image = cv2.imread(\"images/fac.jpg\")\n",
    "image = imutils.resize(image, width=600)\n",
    "rgb = cv2.cvtColor(image, cv2.COLOR_BGR2RGB)\n",
    "\n",
    "# perform face detection using dlib's face detector\n",
    "start = time.time()\n",
    "print(\"[INFO[ performing face detection with dlib...\")\n",
    "rects = detector(rgb, 1)\n",
    "end = time.time()\n",
    "print(\"[INFO] face detection took {:.4f} seconds\".format(end - start))\n",
    "\n",
    "# convert the resulting dlib rectangle objects to bounding boxes,\n",
    "# then ensure the bounding boxes are all within the bounds of the\n",
    "# input image\n",
    "boxes = [convert_and_trim_bb(image, r) for r in rects]\n",
    "\n",
    "# loop over the bounding boxes\n",
    "for (x, y, w, h) in boxes:\n",
    "\t# draw the bounding box on our image\n",
    "\tcv2.rectangle(image, (x, y), (x + w, y + h), (0, 255, 0), 2)\n",
    "\n",
    "# show the output image\n",
    "cv2.imshow(\"Output\", image)\n",
    "cv2.waitKey(0)\n",
    "cv2.destroyAllWindows()"
   ]
  },
  {
   "cell_type": "code",
   "execution_count": null,
   "metadata": {},
   "outputs": [],
   "source": []
  }
 ],
 "metadata": {
  "kernelspec": {
   "display_name": "Python 3",
   "language": "python",
   "name": "python3"
  },
  "language_info": {
   "codemirror_mode": {
    "name": "ipython",
    "version": 3
   },
   "file_extension": ".py",
   "mimetype": "text/x-python",
   "name": "python",
   "nbconvert_exporter": "python",
   "pygments_lexer": "ipython3",
   "version": "3.7.4"
  }
 },
 "nbformat": 4,
 "nbformat_minor": 2
}
